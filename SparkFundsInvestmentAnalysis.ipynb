{
  "nbformat": 4,
  "nbformat_minor": 0,
  "metadata": {
    "colab": {
      "provenance": []
    },
    "kernelspec": {
      "name": "python3",
      "display_name": "Python 3"
    },
    "language_info": {
      "name": "python"
    }
  },
  "cells": [
    {
      "cell_type": "markdown",
      "source": [
        "# Cargamos datasets desde Kaggle a Google Colab"
      ],
      "metadata": {
        "id": "JDFUcCgTN9pe"
      }
    },
    {
      "cell_type": "code",
      "execution_count": 89,
      "metadata": {
        "colab": {
          "base_uri": "https://localhost:8080/"
        },
        "id": "Zj-ZCPnV1cAA",
        "outputId": "a7fd8283-75ad-48aa-cf40-f66cab1c46d6"
      },
      "outputs": [
        {
          "output_type": "stream",
          "name": "stdout",
          "text": [
            "Looking in indexes: https://pypi.org/simple, https://us-python.pkg.dev/colab-wheels/public/simple/\n",
            "Requirement already satisfied: kaggle in /usr/local/lib/python3.9/dist-packages (1.5.13)\n",
            "Requirement already satisfied: certifi in /usr/local/lib/python3.9/dist-packages (from kaggle) (2022.12.7)\n",
            "Requirement already satisfied: tqdm in /usr/local/lib/python3.9/dist-packages (from kaggle) (4.65.0)\n",
            "Requirement already satisfied: python-slugify in /usr/local/lib/python3.9/dist-packages (from kaggle) (8.0.1)\n",
            "Requirement already satisfied: requests in /usr/local/lib/python3.9/dist-packages (from kaggle) (2.25.1)\n",
            "Requirement already satisfied: python-dateutil in /usr/local/lib/python3.9/dist-packages (from kaggle) (2.8.2)\n",
            "Requirement already satisfied: six>=1.10 in /usr/local/lib/python3.9/dist-packages (from kaggle) (1.15.0)\n",
            "Requirement already satisfied: urllib3 in /usr/local/lib/python3.9/dist-packages (from kaggle) (1.26.15)\n",
            "Requirement already satisfied: text-unidecode>=1.3 in /usr/local/lib/python3.9/dist-packages (from python-slugify->kaggle) (1.3)\n",
            "Requirement already satisfied: chardet<5,>=3.0.2 in /usr/local/lib/python3.9/dist-packages (from requests->kaggle) (4.0.0)\n",
            "Requirement already satisfied: idna<3,>=2.5 in /usr/local/lib/python3.9/dist-packages (from requests->kaggle) (2.10)\n"
          ]
        }
      ],
      "source": [
        "#Instalamos kaggle\n",
        "!pip install kaggle"
      ]
    },
    {
      "cell_type": "code",
      "source": [
        "#Nos conectamos a Google Drive\n",
        "from google.colab import drive\n",
        "drive.mount(\"/content/drive\")"
      ],
      "metadata": {
        "id": "SwrbJBC94P9E",
        "colab": {
          "base_uri": "https://localhost:8080/"
        },
        "outputId": "f290d9ec-0552-493c-fbb1-5bda03d3fb65"
      },
      "execution_count": 91,
      "outputs": [
        {
          "output_type": "stream",
          "name": "stdout",
          "text": [
            "Drive already mounted at /content/drive; to attempt to forcibly remount, call drive.mount(\"/content/drive\", force_remount=True).\n"
          ]
        }
      ]
    },
    {
      "cell_type": "code",
      "source": [
        "#Creamos el directorio.kaggle en la ubicación temporal de google colab\n",
        "!mkdir ~/.kaggle"
      ],
      "metadata": {
        "id": "fh0dlV1_6eHj",
        "colab": {
          "base_uri": "https://localhost:8080/"
        },
        "outputId": "c92ce654-776b-44fe-ba4f-1ae781965ee3"
      },
      "execution_count": 92,
      "outputs": [
        {
          "output_type": "stream",
          "name": "stdout",
          "text": [
            "mkdir: cannot create directory ‘/root/.kaggle’: File exists\n"
          ]
        }
      ]
    },
    {
      "cell_type": "code",
      "source": [
        "#Subimos el archivo json a Google Drive y entonces copiamos a la ubicación temporal\n",
        "! cp /content/drive/MyDrive/KaggleAPI/kaggle.json ~/.kaggle/kaggle.json"
      ],
      "metadata": {
        "id": "dI8ud4h46lQG"
      },
      "execution_count": 93,
      "outputs": []
    },
    {
      "cell_type": "code",
      "source": [
        "#Cambiamos los permisos de lectura y escritura\n",
        "! chmod 600 ~/.kaggle/kaggle.json"
      ],
      "metadata": {
        "id": "CJDWXHgq7Jdp"
      },
      "execution_count": 94,
      "outputs": []
    },
    {
      "cell_type": "code",
      "source": [
        "#Descargamos los datasets \n",
        "! kaggle datasets download pranay969/spark-fund-investment-analysis"
      ],
      "metadata": {
        "colab": {
          "base_uri": "https://localhost:8080/"
        },
        "id": "ZSgDDZAe8xbu",
        "outputId": "a91c3ee7-c8e7-45c5-dcaf-e62e7b3bcfe2"
      },
      "execution_count": 96,
      "outputs": [
        {
          "output_type": "stream",
          "name": "stdout",
          "text": [
            "spark-fund-investment-analysis.zip: Skipping, found more recently modified local copy (use --force to force download)\n"
          ]
        }
      ]
    },
    {
      "cell_type": "code",
      "source": [
        "#Como Nel dataset está comprimido tenemos que descomprimir el archivo\n",
        "! unzip spark-fund-investment-analysis.zip"
      ],
      "metadata": {
        "colab": {
          "base_uri": "https://localhost:8080/"
        },
        "id": "V_BE-ONv84CW",
        "outputId": "c951e9ee-3168-4008-9661-10f88c3e6ebe"
      },
      "execution_count": 97,
      "outputs": [
        {
          "output_type": "stream",
          "name": "stdout",
          "text": [
            "Archive:  spark-fund-investment-analysis.zip\n",
            "replace datasets/companies.txt? [y]es, [n]o, [A]ll, [N]one, [r]ename: N\n"
          ]
        }
      ]
    },
    {
      "cell_type": "markdown",
      "source": [
        "# Descargamos Spark y configuramos el entorno de trabajo"
      ],
      "metadata": {
        "id": "C5uJD9a2PVBI"
      }
    },
    {
      "cell_type": "code",
      "source": [
        "#Instalamos Java\n",
        "!apt-get install openjdk-8-jdk-headless -qq > /dev/null\n",
        "\n",
        "#Descargamos Spark\n",
        "!wget -q https://downloads.apache.org/spark/spark-3.2.3/spark-3.2.3-bin-hadoop3.2.tgz\n",
        "#Dezipeamos el archivo descargado\n",
        "!tar xf spark-3.2.3-bin-hadoop3.2.tgz\n",
        "#verificamos la versión de spark que tenemos\n",
        "!spark-submit --version\n",
        "\n",
        "#Utilizamos la versión de spark para saber que versión de pyspark instalar\n",
        "!pip install pyspark==3.2.3 #Cambiar a la versión de spark \n",
        "#Verificamos que la versión de pyspark sea la correcta\n",
        "!pyspark --version\n",
        "\n",
        "#Instalación de Spark en Python\n",
        "!pip install -q findspark\n",
        "\n",
        "#Configuración de variables de entorno\n",
        "import os\n",
        "os.environ[\"JAVA_HOME\"] = \"/usr/lib/jvm/java-8-openjdk-amd64\"\n",
        "os.environ[\"SPARK_HOME\"] = \"/content/spark-3.2.3-bin-hadoop3.2\"\n",
        "\n",
        "#Importamos SparkSession\n",
        "from pyspark.sql import SparkSession\n",
        "spark = SparkSession.builder.master(\"local[*]\").getOrCreate()\n",
        "#Verificación de la sesión de Spark\n",
        "spark"
      ],
      "metadata": {
        "colab": {
          "base_uri": "https://localhost:8080/",
          "height": 723
        },
        "id": "vPwJmhuJEqFH",
        "outputId": "c26fc57d-03ae-4fe0-db25-028b691eeb3b"
      },
      "execution_count": 98,
      "outputs": [
        {
          "output_type": "stream",
          "name": "stdout",
          "text": [
            "Welcome to\n",
            "      ____              __\n",
            "     / __/__  ___ _____/ /__\n",
            "    _\\ \\/ _ \\/ _ `/ __/  '_/\n",
            "   /___/ .__/\\_,_/_/ /_/\\_\\   version 3.2.3\n",
            "      /_/\n",
            "                        \n",
            "Using Scala version 2.12.15, OpenJDK 64-Bit Server VM, 1.8.0_362\n",
            "Branch HEAD\n",
            "Compiled by user sunchao on 2022-11-14T17:20:20Z\n",
            "Revision b53c341e0fefbb33d115ab630369a18765b7763d\n",
            "Url https://github.com/apache/spark\n",
            "Type --help for more information.\n",
            "Looking in indexes: https://pypi.org/simple, https://us-python.pkg.dev/colab-wheels/public/simple/\n",
            "Requirement already satisfied: pyspark==3.2.3 in /usr/local/lib/python3.9/dist-packages (3.2.3)\n",
            "Requirement already satisfied: py4j==0.10.9.5 in /usr/local/lib/python3.9/dist-packages (from pyspark==3.2.3) (0.10.9.5)\n",
            "Welcome to\n",
            "      ____              __\n",
            "     / __/__  ___ _____/ /__\n",
            "    _\\ \\/ _ \\/ _ `/ __/  '_/\n",
            "   /___/ .__/\\_,_/_/ /_/\\_\\   version 3.2.3\n",
            "      /_/\n",
            "                        \n",
            "Using Scala version 2.12.15, OpenJDK 64-Bit Server VM, 1.8.0_362\n",
            "Branch HEAD\n",
            "Compiled by user sunchao on 2022-11-14T17:20:20Z\n",
            "Revision b53c341e0fefbb33d115ab630369a18765b7763d\n",
            "Url https://github.com/apache/spark\n",
            "Type --help for more information.\n"
          ]
        },
        {
          "output_type": "execute_result",
          "data": {
            "text/plain": [
              "<pyspark.sql.session.SparkSession at 0x7f3f01fdcfa0>"
            ],
            "text/html": [
              "\n",
              "            <div>\n",
              "                <p><b>SparkSession - in-memory</b></p>\n",
              "                \n",
              "        <div>\n",
              "            <p><b>SparkContext</b></p>\n",
              "\n",
              "            <p><a href=\"http://a1fef3959eb6:4040\">Spark UI</a></p>\n",
              "\n",
              "            <dl>\n",
              "              <dt>Version</dt>\n",
              "                <dd><code>v3.2.3</code></dd>\n",
              "              <dt>Master</dt>\n",
              "                <dd><code>local[*]</code></dd>\n",
              "              <dt>AppName</dt>\n",
              "                <dd><code>pyspark-shell</code></dd>\n",
              "            </dl>\n",
              "        </div>\n",
              "        \n",
              "            </div>\n",
              "        "
            ]
          },
          "metadata": {},
          "execution_count": 98
        }
      ]
    },
    {
      "cell_type": "markdown",
      "source": [
        "# Librerías"
      ],
      "metadata": {
        "id": "VDnK9i-8P3BG"
      }
    },
    {
      "cell_type": "code",
      "source": [
        "#Importamos los objetos \"StructType\" y el \"StructField\"\n",
        "#Estos objetos nos ayudarán a definir la metadata\n",
        "from pyspark.sql.types import StructType, StructField\n",
        "\n",
        "#Importamos los tipos de datos que usaremos\n",
        "from pyspark.sql.types import IntegerType, StringType, DoubleType, DateType\n",
        "\n",
        "#Importamos las librerías de funciones clasicas\n",
        "import pyspark.sql.functions as f\n",
        "from pyspark.sql.functions import udf, col\n",
        "\n",
        "#Importamos la librería\n",
        "import pandas as pd\n",
        "\n",
        "#Importamos la librería matplotlib.pyplot\n",
        "import matplotlib.pyplot as plt"
      ],
      "metadata": {
        "id": "qINFz51lGNhm"
      },
      "execution_count": 133,
      "outputs": []
    },
    {
      "cell_type": "markdown",
      "source": [
        "# Lectura y limpieza de datos"
      ],
      "metadata": {
        "id": "QFOehj7rQXnE"
      }
    },
    {
      "cell_type": "markdown",
      "source": [
        "## Lectura y limpieza del archivo rounds2.csv"
      ],
      "metadata": {
        "id": "HyXp2GhvS_Tj"
      }
    },
    {
      "cell_type": "code",
      "source": [
        "#Cargamos el archivo rounds2.csv\n",
        "dfRounds2 = spark.read.format(\"csv\").option(\"header\", \"true\").option(\"delimiter\", \",\").schema(\n",
        "    StructType(\n",
        "        [\n",
        "            StructField(\"company_permalink\", StringType(), True),\n",
        "            StructField(\"funding_round_permalink\", StringType(), True),\n",
        "            StructField(\"funding_round_type\", StringType(), True),\n",
        "            StructField(\"funding_round_code\", StringType(), True),\n",
        "            StructField(\"funded_at\", StringType(), True),\n",
        "            StructField(\"raised_amount_usd\", DoubleType(), True)\n",
        "        ]\n",
        "    )\n",
        ").load(\"/content/datasets/rounds2.csv\")\n",
        "\n",
        "dfRounds2.show()\n",
        "\n",
        "dfRounds2.printSchema()\n",
        "\n",
        "dfRounds2.count()"
      ],
      "metadata": {
        "colab": {
          "base_uri": "https://localhost:8080/"
        },
        "id": "2gNxtsNGNzIe",
        "outputId": "750e4c7c-1900-4716-a2fd-b72f37256e2f"
      },
      "execution_count": 120,
      "outputs": [
        {
          "output_type": "stream",
          "name": "stdout",
          "text": [
            "+--------------------+-----------------------+-------------------+------------------+----------+-----------------+\n",
            "|   company_permalink|funding_round_permalink| funding_round_type|funding_round_code| funded_at|raised_amount_usd|\n",
            "+--------------------+-----------------------+-------------------+------------------+----------+-----------------+\n",
            "| /organization/-fame|   /funding-round/9a...|            venture|                 B|  5/1/2015|            1.0E7|\n",
            "|/ORGANIZATION/-QO...|   /funding-round/22...|            venture|                 A|14-10-2014|             null|\n",
            "|/organization/-qo...|   /funding-round/b4...|               seed|              null|  1/3/2014|         700000.0|\n",
            "|/ORGANIZATION/-TH...|   /funding-round/65...|            venture|                 B|30-01-2014|        3406878.0|\n",
            "|/organization/0-6...|   /funding-round/57...|            venture|                 A|19-03-2008|        2000000.0|\n",
            "|/ORGANIZATION/004...|   /funding-round/12...|            venture|              null|24-07-2014|             null|\n",
            "|/organization/01g...|   /funding-round/7d...|        undisclosed|              null|  1/7/2014|          41250.0|\n",
            "|/ORGANIZATION/0ND...|   /funding-round/2b...|               seed|              null| 11/9/2009|          43360.0|\n",
            "|/organization/0nd...|   /funding-round/95...|            venture|              null|21-12-2009|         719491.0|\n",
            "|/ORGANIZATION/0XDATA|   /funding-round/38...|               seed|              null|22-05-2013|        3000000.0|\n",
            "|/organization/0xdata|   /funding-round/3b...|            venture|                 B| 9/11/2015|            2.0E7|\n",
            "|/ORGANIZATION/0XDATA|   /funding-round/ae...|            venture|              null|  3/1/2013|        1700000.0|\n",
            "|/organization/0xdata|   /funding-round/e1...|            venture|                 A|19-07-2014|        8900000.0|\n",
            "|     /ORGANIZATION/1|   /funding-round/03...|               seed|              null|  5/2/2014|         150000.0|\n",
            "|     /organization/1|   /funding-round/5d...|        undisclosed|              null|  5/2/2013|             null|\n",
            "|     /ORGANIZATION/1|   /funding-round/e8...|               seed|              null|20-07-2011|        1000050.0|\n",
            "|/organization/1-2...|   /funding-round/6d...|               seed|              null|18-02-2013|          40000.0|\n",
            "|/ORGANIZATION/1-4...|   /funding-round/e9...|equity_crowdfunding|              null|21-04-2013|             null|\n",
            "|/organization/1-6...|   /funding-round/83...|equity_crowdfunding|              null|22-01-2014|             null|\n",
            "|/ORGANIZATION/1-8...|   /funding-round/52...|        undisclosed|              null|19-08-2010|             null|\n",
            "+--------------------+-----------------------+-------------------+------------------+----------+-----------------+\n",
            "only showing top 20 rows\n",
            "\n",
            "root\n",
            " |-- company_permalink: string (nullable = true)\n",
            " |-- funding_round_permalink: string (nullable = true)\n",
            " |-- funding_round_type: string (nullable = true)\n",
            " |-- funding_round_code: string (nullable = true)\n",
            " |-- funded_at: string (nullable = true)\n",
            " |-- raised_amount_usd: double (nullable = true)\n",
            "\n"
          ]
        },
        {
          "output_type": "execute_result",
          "data": {
            "text/plain": [
              "114949"
            ]
          },
          "metadata": {},
          "execution_count": 120
        }
      ]
    },
    {
      "cell_type": "code",
      "source": [
        "#Convertimos DataFrame a RDD para poder usar la transformación map\n",
        "#map toma los elementos del RDD y en este caso con la función lambda devuelve \n",
        "#el objeto de la posición 5\n",
        "list_values = dfRounds2.rdd.map(lambda x: x[5]).collect()\n",
        "#Validamos que todos los valores sean float\n",
        "for value in list_values:\n",
        "  if type(value) == float:\n",
        "    print(\"Hay un flotante\")\n",
        "    break"
      ],
      "metadata": {
        "id": "IkSUrqPa0lwl",
        "colab": {
          "base_uri": "https://localhost:8080/"
        },
        "outputId": "a8f38779-f88b-497a-9f97-e642f8be53e7"
      },
      "execution_count": 106,
      "outputs": [
        {
          "output_type": "stream",
          "name": "stdout",
          "text": [
            "Hay un flotante\n"
          ]
        }
      ]
    },
    {
      "cell_type": "code",
      "source": [
        "#Creamos la función que normaliza las fechas de la columna funded_at\n",
        "def normalizeDate(dateString):\n",
        "  if dateString: \n",
        "    return dateString.replace(\"-\", \"/\")"
      ],
      "metadata": {
        "id": "_PIyZlFcPxNg"
      },
      "execution_count": 107,
      "outputs": []
    },
    {
      "cell_type": "code",
      "source": [
        "#Hacemos uso de las user defined functions(UDF) para poder hacer un update de \n",
        "#la columna funded_at\n",
        "udfNormalizeDate = udf(normalizeDate, StringType())"
      ],
      "metadata": {
        "id": "Teo9NmOEbrzl"
      },
      "execution_count": 108,
      "outputs": []
    },
    {
      "cell_type": "code",
      "source": [
        "dfRounds2_1 = dfRounds2.withColumn(\"funded_at\", udfNormalizeDate(dfRounds2[\"funded_at\"]))\n",
        "dfRounds2_1.show()"
      ],
      "metadata": {
        "colab": {
          "base_uri": "https://localhost:8080/"
        },
        "id": "yvLnpKZnRN3b",
        "outputId": "b68acc5a-5cdb-40e8-e2a1-731fabc850ad"
      },
      "execution_count": 109,
      "outputs": [
        {
          "output_type": "stream",
          "name": "stdout",
          "text": [
            "+--------------------+-----------------------+-------------------+------------------+----------+-----------------+\n",
            "|   company_permalink|funding_round_permalink| funding_round_type|funding_round_code| funded_at|raised_amount_usd|\n",
            "+--------------------+-----------------------+-------------------+------------------+----------+-----------------+\n",
            "| /organization/-fame|   /funding-round/9a...|            venture|                 B|  5/1/2015|            1.0E7|\n",
            "|/ORGANIZATION/-QO...|   /funding-round/22...|            venture|                 A|14/10/2014|             null|\n",
            "|/organization/-qo...|   /funding-round/b4...|               seed|              null|  1/3/2014|         700000.0|\n",
            "|/ORGANIZATION/-TH...|   /funding-round/65...|            venture|                 B|30/01/2014|        3406878.0|\n",
            "|/organization/0-6...|   /funding-round/57...|            venture|                 A|19/03/2008|        2000000.0|\n",
            "|/ORGANIZATION/004...|   /funding-round/12...|            venture|              null|24/07/2014|             null|\n",
            "|/organization/01g...|   /funding-round/7d...|        undisclosed|              null|  1/7/2014|          41250.0|\n",
            "|/ORGANIZATION/0ND...|   /funding-round/2b...|               seed|              null| 11/9/2009|          43360.0|\n",
            "|/organization/0nd...|   /funding-round/95...|            venture|              null|21/12/2009|         719491.0|\n",
            "|/ORGANIZATION/0XDATA|   /funding-round/38...|               seed|              null|22/05/2013|        3000000.0|\n",
            "|/organization/0xdata|   /funding-round/3b...|            venture|                 B| 9/11/2015|            2.0E7|\n",
            "|/ORGANIZATION/0XDATA|   /funding-round/ae...|            venture|              null|  3/1/2013|        1700000.0|\n",
            "|/organization/0xdata|   /funding-round/e1...|            venture|                 A|19/07/2014|        8900000.0|\n",
            "|     /ORGANIZATION/1|   /funding-round/03...|               seed|              null|  5/2/2014|         150000.0|\n",
            "|     /organization/1|   /funding-round/5d...|        undisclosed|              null|  5/2/2013|             null|\n",
            "|     /ORGANIZATION/1|   /funding-round/e8...|               seed|              null|20/07/2011|        1000050.0|\n",
            "|/organization/1-2...|   /funding-round/6d...|               seed|              null|18/02/2013|          40000.0|\n",
            "|/ORGANIZATION/1-4...|   /funding-round/e9...|equity_crowdfunding|              null|21/04/2013|             null|\n",
            "|/organization/1-6...|   /funding-round/83...|equity_crowdfunding|              null|22/01/2014|             null|\n",
            "|/ORGANIZATION/1-8...|   /funding-round/52...|        undisclosed|              null|19/08/2010|             null|\n",
            "+--------------------+-----------------------+-------------------+------------------+----------+-----------------+\n",
            "only showing top 20 rows\n",
            "\n"
          ]
        }
      ]
    },
    {
      "cell_type": "code",
      "source": [
        "#Creamos la función que normaliza los links de la columna company_permalink\n",
        "\n",
        "def lowerColumn(string):\n",
        "  if string:\n",
        "    return string.lower()"
      ],
      "metadata": {
        "id": "oNWDBpRT-fqj"
      },
      "execution_count": 110,
      "outputs": []
    },
    {
      "cell_type": "code",
      "source": [
        "#Hacemos uso de las user defined functions(UDF) para poder hacer un update de \n",
        "#la columna company_permalink\n",
        "udfLowerColumn = udf(\n",
        "    lowerColumn,\n",
        "    StringType()\n",
        ")"
      ],
      "metadata": {
        "id": "j_8OgfiI-011"
      },
      "execution_count": 128,
      "outputs": []
    },
    {
      "cell_type": "code",
      "source": [
        "dfRounds2_2 = dfRounds2_1.withColumn(\"company_permalink\", udfLowerColumn(dfRounds2_1[\"company_permalink\"]))\n",
        "dfRounds2_2.show()"
      ],
      "metadata": {
        "colab": {
          "base_uri": "https://localhost:8080/"
        },
        "id": "iVpzvx0--6vz",
        "outputId": "d4d2ef1f-1471-4253-ecc6-35fb83324894"
      },
      "execution_count": null,
      "outputs": [
        {
          "output_type": "stream",
          "name": "stdout",
          "text": [
            "+--------------------+-----------------------+-------------------+------------------+----------+-----------------+\n",
            "|   company_permalink|funding_round_permalink| funding_round_type|funding_round_code| funded_at|raised_amount_usd|\n",
            "+--------------------+-----------------------+-------------------+------------------+----------+-----------------+\n",
            "| /organization/-fame|   /funding-round/9a...|            venture|                 B|  5/1/2015|            1.0E7|\n",
            "|/organization/-qo...|   /funding-round/22...|            venture|                 A|14/10/2014|             null|\n",
            "|/organization/-qo...|   /funding-round/b4...|               seed|              null|  1/3/2014|         700000.0|\n",
            "|/organization/-th...|   /funding-round/65...|            venture|                 B|30/01/2014|        3406878.0|\n",
            "|/organization/0-6...|   /funding-round/57...|            venture|                 A|19/03/2008|        2000000.0|\n",
            "|/organization/004...|   /funding-round/12...|            venture|              null|24/07/2014|             null|\n",
            "|/organization/01g...|   /funding-round/7d...|        undisclosed|              null|  1/7/2014|          41250.0|\n",
            "|/organization/0nd...|   /funding-round/2b...|               seed|              null| 11/9/2009|          43360.0|\n",
            "|/organization/0nd...|   /funding-round/95...|            venture|              null|21/12/2009|         719491.0|\n",
            "|/organization/0xdata|   /funding-round/38...|               seed|              null|22/05/2013|        3000000.0|\n",
            "|/organization/0xdata|   /funding-round/3b...|            venture|                 B| 9/11/2015|            2.0E7|\n",
            "|/organization/0xdata|   /funding-round/ae...|            venture|              null|  3/1/2013|        1700000.0|\n",
            "|/organization/0xdata|   /funding-round/e1...|            venture|                 A|19/07/2014|        8900000.0|\n",
            "|     /organization/1|   /funding-round/03...|               seed|              null|  5/2/2014|         150000.0|\n",
            "|     /organization/1|   /funding-round/5d...|        undisclosed|              null|  5/2/2013|             null|\n",
            "|     /organization/1|   /funding-round/e8...|               seed|              null|20/07/2011|        1000050.0|\n",
            "|/organization/1-2...|   /funding-round/6d...|               seed|              null|18/02/2013|          40000.0|\n",
            "|/organization/1-4...|   /funding-round/e9...|equity_crowdfunding|              null|21/04/2013|             null|\n",
            "|/organization/1-6...|   /funding-round/83...|equity_crowdfunding|              null|22/01/2014|             null|\n",
            "|/organization/1-8...|   /funding-round/52...|        undisclosed|              null|19/08/2010|             null|\n",
            "+--------------------+-----------------------+-------------------+------------------+----------+-----------------+\n",
            "only showing top 20 rows\n",
            "\n"
          ]
        }
      ]
    },
    {
      "cell_type": "code",
      "source": [
        "#Aplicamos algunas restricciones a los datos, aqui consideré que\n",
        "#No deben ser nulos:\n",
        "#-company_permalink\n",
        "#-funding_round_permalink\n",
        "#-funding_round_type\n",
        "#-funding_round_code\n",
        "#-raised_amount_usd\n",
        "#y además debemos asegurar que raised_amount_usd siempre debe ser no negativo\n",
        "#aplicamos el método distinct para asegurar la unicidad de los registros\n",
        "\n",
        "dfRounds2Limpio = dfRounds2_2.filter(\n",
        "    (dfRounds2_2['company_permalink'].isNotNull()) &\n",
        "    (dfRounds2_2['funding_round_permalink'].isNotNull()) &\n",
        "    (dfRounds2_2['funding_round_type'].isNotNull()) &\n",
        "    (dfRounds2_2['funding_round_code'].isNotNull()) &\n",
        "    (dfRounds2_2['raised_amount_usd'].isNotNull()) &\n",
        "    (dfRounds2_2['raised_amount_usd'] >= 0) \n",
        ").distinct()\n",
        "\n",
        "dfRounds2Limpio.show(truncate=False)\n",
        "dfRounds2Limpio.count()"
      ],
      "metadata": {
        "colab": {
          "base_uri": "https://localhost:8080/"
        },
        "id": "0YoL9zPVo5FP",
        "outputId": "5b958832-736c-4ac8-ec5e-f40f3a2b631a"
      },
      "execution_count": 118,
      "outputs": [
        {
          "output_type": "stream",
          "name": "stdout",
          "text": [
            "+---------------------------------+-----------------------------------------------+------------------+------------------+----------+-----------------+\n",
            "|company_permalink                |funding_round_permalink                        |funding_round_type|funding_round_code|funded_at |raised_amount_usd|\n",
            "+---------------------------------+-----------------------------------------------+------------------+------------------+----------+-----------------+\n",
            "|/organization/2nd-watch          |/funding-round/08108acd1a58480a1331ee7d4bc9abda|venture           |C                 |14/10/2014|1.0E7            |\n",
            "|/organization/41st-parameter     |/funding-round/6bd9683aa1fbe7c966dfef630c096d13|venture           |D                 |11/4/2012 |1.3E7            |\n",
            "|/organization/6wunderkinder      |/funding-round/a21823b6de07f1aa3584be967e6aa9b9|venture           |B                 |12/11/2013|1.9E7            |\n",
            "|/organization/actifio            |/funding-round/96f3a1d7b6c5108ce66f151c6393531f|venture           |C                 |5/12/2011 |3.35E7           |\n",
            "|/organization/akebia-therapeutics|/funding-round/cddc008c252e65592d2a1cb52fd6eef4|venture           |C                 |4/6/2013  |4.1E7            |\n",
            "|/organization/alarm-com          |/funding-round/8cb31de4634d863b55f430a325ee42ee|venture           |A                 |17/02/2009|2.7E7            |\n",
            "|/organization/alloptic           |/funding-round/274a6cbed4f08f179539cef4d2e21d47|venture           |E                 |23/08/2005|3.0E7            |\n",
            "|/organization/alpex-pharma-sa    |/funding-round/2812e29b8008d7c6e15d80dda4353ffa|venture           |B                 |22/08/2007|9000000.0        |\n",
            "|/organization/ampulse            |/funding-round/22ec2b0b5973dbe56af79bf48a53ff6a|venture           |A                 |1/11/2009 |8000000.0        |\n",
            "|/organization/aoptix-technologies|/funding-round/932f5265b766c87111d7967788e6c3ec|venture           |C                 |30/05/2007|1.5E7            |\n",
            "|/organization/appinions          |/funding-round/3bc8f64652d5ce0e63f7627da7e72195|venture           |A                 |1/6/2012  |3000000.0        |\n",
            "|/organization/applause           |/funding-round/3cc1f5c252fb8f7d593733f1908f0f3e|venture           |C                 |13/09/2010|1.3E7            |\n",
            "|/organization/apttus             |/funding-round/0d6b4d3ec067763e6cce6ad0f1b2b8ef|venture           |C                 |1/9/2015  |1.08E8           |\n",
            "|/organization/aristos-logic      |/funding-round/2456af5414b97a5f96e0934ec151f016|venture           |B                 |18/12/2001|1.55E7           |\n",
            "|/organization/asset4             |/funding-round/40269438c77a44e8cccef072f21caad3|venture           |B                 |28/06/2006|4900000.0        |\n",
            "|/organization/atyr-pharma        |/funding-round/7def4d12f05404c1af18d5d9319d4f29|venture           |D                 |29/07/2013|4.9E7            |\n",
            "|/organization/axiomed-spine      |/funding-round/6e950bb78e64ac9817b31975729e261c|venture           |A                 |10/2/2003 |2750000.0        |\n",
            "|/organization/babyboom-ru        |/funding-round/87e9bca106586e4054623f8916dc8ed6|venture           |A                 |25/03/2011|900000.0         |\n",
            "|/organization/beyondcore         |/funding-round/18cc9848ca4ddc725289c4a960a5a654|venture           |A                 |18/02/2014|9000000.0        |\n",
            "|/organization/bionanomatrix      |/funding-round/02d167b9685603292f920eb9c6bf9fde|venture           |A                 |26/03/2008|5100000.0        |\n",
            "+---------------------------------+-----------------------------------------------+------------------+------------------+----------+-----------------+\n",
            "only showing top 20 rows\n",
            "\n"
          ]
        },
        {
          "output_type": "execute_result",
          "data": {
            "text/plain": [
              "28169"
            ]
          },
          "metadata": {},
          "execution_count": 118
        }
      ]
    },
    {
      "cell_type": "markdown",
      "source": [
        "## Lectura y limpieza del archivo mapping.csv"
      ],
      "metadata": {
        "id": "zcTGZoxuTL_V"
      }
    },
    {
      "cell_type": "code",
      "source": [
        "#Cargamos el archivo mapping.csv\n",
        "dfMapping = spark.read.format(\"csv\").option(\"header\", \"true\").option(\"delimiter\", \",\").load(\"/content/datasets/mapping.csv\")\n",
        "\n",
        "dfMapping.show()\n",
        "\n",
        "dfMapping.printSchema()"
      ],
      "metadata": {
        "colab": {
          "base_uri": "https://localhost:8080/"
        },
        "id": "-VIRk4Tz_K8f",
        "outputId": "512d40f9-7716-468e-e0a2-a212f223455b"
      },
      "execution_count": 121,
      "outputs": [
        {
          "output_type": "stream",
          "name": "stdout",
          "text": [
            "+--------------------+-------------------+------+--------------------------+-------------+------+-------------+--------------------------+------+---------------------------------------+\n",
            "|       category_list|Automotive & Sports|Blanks|Cleantech / Semiconductors|Entertainment|Health|Manufacturing|News, Search and Messaging|Others|Social, Finance, Analytics, Advertising|\n",
            "+--------------------+-------------------+------+--------------------------+-------------+------+-------------+--------------------------+------+---------------------------------------+\n",
            "|                null|                  0|     1|                         0|            0|     0|            0|                         0|     0|                                      0|\n",
            "|                  3D|                  0|     0|                         0|            0|     0|            1|                         0|     0|                                      0|\n",
            "|         3D Printing|                  0|     0|                         0|            0|     0|            1|                         0|     0|                                      0|\n",
            "|       3D Technology|                  0|     0|                         0|            0|     0|            1|                         0|     0|                                      0|\n",
            "|          Accounting|                  0|     0|                         0|            0|     0|            0|                         0|     0|                                      1|\n",
            "|    Active Lifestyle|                  0|     0|                         0|            0|     1|            0|                         0|     0|                                      0|\n",
            "|        Ad Targeting|                  0|     0|                         0|            0|     0|            0|                         0|     0|                                      1|\n",
            "|  Advanced Materials|                  0|     0|                         0|            0|     0|            1|                         0|     0|                                      0|\n",
            "|    Adventure Travel|                  1|     0|                         0|            0|     0|            0|                         0|     0|                                      0|\n",
            "|         Advertising|                  0|     0|                         0|            0|     0|            0|                         0|     0|                                      1|\n",
            "|Advertising Excha...|                  0|     0|                         0|            0|     0|            0|                         0|     0|                                      1|\n",
            "|Advertising Networks|                  0|     0|                         0|            0|     0|            0|                         0|     0|                                      1|\n",
            "|Advertising Platf...|                  0|     0|                         0|            0|     0|            0|                         0|     0|                                      1|\n",
            "|              Advice|                  0|     0|                         0|            0|     0|            0|                         0|     1|                                      0|\n",
            "|           Aerospace|                  1|     0|                         0|            0|     0|            0|                         0|     0|                                      0|\n",
            "|         Agriculture|                  0|     0|                         0|            0|     0|            1|                         0|     0|                                      0|\n",
            "|Air Pollution Con...|                  0|     0|                         1|            0|     0|            0|                         0|     0|                                      0|\n",
            "|          Algorithms|                  0|     0|                         0|            0|     0|            0|                         0|     1|                                      0|\n",
            "|         All Markets|                  0|     0|                         0|            0|     0|            0|                         0|     1|                                      0|\n",
            "|        All Students|                  0|     0|                         0|            0|     0|            0|                         0|     1|                                      0|\n",
            "+--------------------+-------------------+------+--------------------------+-------------+------+-------------+--------------------------+------+---------------------------------------+\n",
            "only showing top 20 rows\n",
            "\n",
            "root\n",
            " |-- category_list: string (nullable = true)\n",
            " |-- Automotive & Sports: string (nullable = true)\n",
            " |-- Blanks: string (nullable = true)\n",
            " |-- Cleantech / Semiconductors: string (nullable = true)\n",
            " |-- Entertainment: string (nullable = true)\n",
            " |-- Health: string (nullable = true)\n",
            " |-- Manufacturing: string (nullable = true)\n",
            " |-- News, Search and Messaging: string (nullable = true)\n",
            " |-- Others: string (nullable = true)\n",
            " |-- Social, Finance, Analytics, Advertising: string (nullable = true)\n",
            "\n"
          ]
        }
      ]
    },
    {
      "cell_type": "code",
      "source": [
        "#Apliqué la restricción de que ninguno de los campos de los registros\n",
        "#debe ser nulo, porque siempre debe estar definida la categoría\n",
        "\n",
        "dfMappingLimpio = dfMapping.filter(\n",
        "    (dfMapping[\"category_list\"].isNotNull()) &\n",
        "    (dfMapping[\"Automotive & Sports\"].isNotNull()) &\n",
        "    (dfMapping[\"Blanks\"].isNotNull()) &\n",
        "    (dfMapping[\"Cleantech / Semiconductors\"].isNotNull()) &\n",
        "    (dfMapping[\"Entertainment\"].isNotNull()) &\n",
        "    (dfMapping[\"Health\"].isNotNull()) &\n",
        "    (dfMapping[\"Manufacturing\"].isNotNull()) &\n",
        "    (dfMapping[\"News, Search and Messaging\"].isNotNull()) &\n",
        "    (dfMapping[\"Others\"].isNotNull()) &\n",
        "    (dfMapping[\"Social, Finance, Analytics, Advertising\"].isNotNull())\n",
        ").distinct()\n",
        "\n",
        "dfMappingLimpio.show()\n",
        "\n",
        "dfMappingLimpio.printSchema()"
      ],
      "metadata": {
        "colab": {
          "base_uri": "https://localhost:8080/"
        },
        "id": "fZ8yDtdeQLj7",
        "outputId": "e3f987de-6864-4c3a-d94e-05b02c2b29c1"
      },
      "execution_count": 124,
      "outputs": [
        {
          "output_type": "stream",
          "name": "stdout",
          "text": [
            "+--------------------+-------------------+------+--------------------------+-------------+------+-------------+--------------------------+------+---------------------------------------+\n",
            "|       category_list|Automotive & Sports|Blanks|Cleantech / Semiconductors|Entertainment|Health|Manufacturing|News, Search and Messaging|Others|Social, Finance, Analytics, Advertising|\n",
            "+--------------------+-------------------+------+--------------------------+-------------+------+-------------+--------------------------+------+---------------------------------------+\n",
            "|     Human Resources|                  0|     0|                         0|            0|     0|            0|                         0|     1|                                      0|\n",
            "|Postal and Courie...|                  0|     0|                         0|            0|     0|            0|                         0|     1|                                      0|\n",
            "| Content Syndication|                  0|     0|                         0|            1|     0|            0|                         0|     0|                                      0|\n",
            "| Creative Industries|                  0|     0|                         0|            1|     0|            0|                         0|     0|                                      0|\n",
            "|           Lotteries|                  0|     0|                         0|            0|     0|            0|                         0|     0|                                      1|\n",
            "|      Mobile Devices|                  0|     0|                         0|            0|     0|            0|                         1|     0|                                      0|\n",
            "|   Content Discovery|                  0|     0|                         0|            1|     0|            0|                         0|     0|                                      0|\n",
            "|Electronic Health...|                  0|     0|                         0|            0|     1|            0|                         0|     0|                                      0|\n",
            "|        File Sharing|                  0|     0|                         0|            0|     0|            0|                         0|     1|                                      0|\n",
            "|   Logistics Company|                  0|     0|                         0|            0|     0|            0|                         0|     1|                                      0|\n",
            "|      Bioinformatics|                  0|     0|                         1|            0|     0|            0|                         0|     0|                                      0|\n",
            "|             Can0bis|                  0|     0|                         0|            0|     1|            0|                         0|     0|                                      0|\n",
            "|   Mobile Enterprise|                  0|     0|                         0|            0|     0|            0|                         1|     0|                                      0|\n",
            "|   Social Television|                  0|     0|                         0|            0|     0|            0|                         0|     0|                                      1|\n",
            "|     Specialty Foods|                  0|     0|                         0|            0|     1|            0|                         0|     0|                                      0|\n",
            "|Advertising Networks|                  0|     0|                         0|            0|     0|            0|                         0|     0|                                      1|\n",
            "|         Social News|                  0|     0|                         0|            0|     0|            0|                         0|     0|                                      1|\n",
            "|     Mobile Shopping|                  0|     0|                         0|            0|     0|            0|                         0|     0|                                      1|\n",
            "|    Public Relations|                  0|     0|                         0|            0|     0|            0|                         0|     0|                                      1|\n",
            "|       Home & Garden|                  0|     0|                         1|            0|     0|            0|                         0|     0|                                      0|\n",
            "+--------------------+-------------------+------+--------------------------+-------------+------+-------------+--------------------------+------+---------------------------------------+\n",
            "only showing top 20 rows\n",
            "\n",
            "root\n",
            " |-- category_list: string (nullable = true)\n",
            " |-- Automotive & Sports: string (nullable = true)\n",
            " |-- Blanks: string (nullable = true)\n",
            " |-- Cleantech / Semiconductors: string (nullable = true)\n",
            " |-- Entertainment: string (nullable = true)\n",
            " |-- Health: string (nullable = true)\n",
            " |-- Manufacturing: string (nullable = true)\n",
            " |-- News, Search and Messaging: string (nullable = true)\n",
            " |-- Others: string (nullable = true)\n",
            " |-- Social, Finance, Analytics, Advertising: string (nullable = true)\n",
            "\n"
          ]
        }
      ]
    },
    {
      "cell_type": "markdown",
      "source": [
        "## Lectura y limpieza del archivo companies.txt"
      ],
      "metadata": {
        "id": "LrwlzMPxTTfV"
      }
    },
    {
      "cell_type": "code",
      "source": [
        "#Cargamos el archivo companies.txt\n",
        "dfCompanies = spark.read.format(\"csv\").option(\"header\", \"true\").option(\"delimiter\", \"\t\").load(\"/content/datasets/companies.txt\")\n",
        "\n",
        "dfCompanies.show()\n",
        "\n",
        "dfCompanies.printSchema()"
      ],
      "metadata": {
        "colab": {
          "base_uri": "https://localhost:8080/"
        },
        "id": "AHLKpSPyRjTD",
        "outputId": "d921179e-e279-4ff8-9ec3-334a96ae8b1b"
      },
      "execution_count": 122,
      "outputs": [
        {
          "output_type": "stream",
          "name": "stdout",
          "text": [
            "+--------------------+--------------------+--------------------+--------------------+---------+------------+----------+--------------------+-----------------+----------+\n",
            "|           permalink|                name|        homepage_url|       category_list|   status|country_code|state_code|              region|             city|founded_at|\n",
            "+--------------------+--------------------+--------------------+--------------------+---------+------------+----------+--------------------+-----------------+----------+\n",
            "| /Organization/-Fame|               #fame|  http://livfame.com|               Media|operating|         IND|        16|              Mumbai|           Mumbai|      null|\n",
            "|/Organization/-Qo...|            :Qounter|http://www.qounte...|Application Platf...|operating|         USA|        DE|          DE - Other|    Delaware City|04-09-2014|\n",
            "|/Organization/-Th...|(THE) ONE of THEM...| http://oneofthem.jp|   Apps|Games|Mobile|operating|        null|      null|                null|             null|      null|\n",
            "|/Organization/0-6...|             0-6.com|  http://www.0-6.com|         Curated Web|operating|         CHN|        22|             Beijing|          Beijing|01-01-2007|\n",
            "|/Organization/004...|    004 Technologies|http://004gmbh.de...|            Software|operating|         USA|        IL|Springfield, Illi...|        Champaign|01-01-2010|\n",
            "|/Organization/01G...|  01Games Technology|http://www.01game...|               Games|operating|         HKG|      null|           Hong Kong|        Hong Kong|      null|\n",
            "|/Organization/0Nd...|Ondine Biomedical...|http://ondinebio.com|       Biotechnology|operating|         CAN|        BC|           Vancouver|        Vancouver|01-01-1997|\n",
            "|/Organization/0Xdata|              H2O.ai|      http://h2o.ai/|           Analytics|operating|         USA|        CA|         SF Bay Area|    Mountain View|01-01-2011|\n",
            "|     /Organization/1|            One Inc.|  http://whatis1.com|              Mobile|operating|         USA|        CA|         SF Bay Area|    San Francisco|01-08-2011|\n",
            "|/Organization/1-2...|         1,2,3 Listo|http://www.123lis...|          E-Commerce|operating|         CHL|        12|            Santiago|       Las Condes|01-01-2012|\n",
            "|/Organization/1-4...|             1-4 All|                null|Entertainment|Gam...|operating|         USA|        NC|          NC - Other|Connellys Springs|      null|\n",
            "|/Organization/1-6...|    1.618 Technology|http://www.Homean...|Networking|Real E...|operating|         USA|        FL|             Orlando|          Orlando|07-12-2013|\n",
            "|/Organization/1-8...|       1-800-DENTIST|http://www.1800de...| Health and Wellness|operating|         USA|        CA|         Los Angeles|      Los Angeles|01-01-1986|\n",
            "|/Organization/1-8...|       1-800-DOCTORS|http://1800doctor...| Health and Wellness|operating|         USA|        NJ|              Newark|           Iselin|01-01-1984|\n",
            "|/Organization/1-8...|1-800-PublicRelat...|http://www.1800pu...|Internet Marketin...|operating|         USA|        NY|       New York City|         New York|24-10-2013|\n",
            "|/Organization/1-M...|        1 Mainstream|http://www.1mains...|Apps|Cable|Distri...| acquired|         USA|        CA|         SF Bay Area|        Cupertino|01-03-2012|\n",
            "|/Organization/1-O...|             1 of 99|                null| Entertainment|Games|operating|         USA|        CA|         SF Bay Area|    Mountain View|01-12-2014|\n",
            "|/Organization/10-...|         10-20 Media|http://www.10-20m...|          E-Commerce|operating|         USA|        MD|           Baltimore|         Woodbine|01-01-2001|\n",
            "|/Organization/10-...|     10 Minutes With|http://10minutesw...|           Education|operating|         GBR|        H9|              London|           London|01-01-2013|\n",
            "|/Organization/100...|          1000 Corks|http://1000corks.com|              Search|operating|         USA|        OR|    Portland, Oregon|      Lake Oswego|01-01-2008|\n",
            "+--------------------+--------------------+--------------------+--------------------+---------+------------+----------+--------------------+-----------------+----------+\n",
            "only showing top 20 rows\n",
            "\n",
            "root\n",
            " |-- permalink: string (nullable = true)\n",
            " |-- name: string (nullable = true)\n",
            " |-- homepage_url: string (nullable = true)\n",
            " |-- category_list: string (nullable = true)\n",
            " |-- status: string (nullable = true)\n",
            " |-- country_code: string (nullable = true)\n",
            " |-- state_code: string (nullable = true)\n",
            " |-- region: string (nullable = true)\n",
            " |-- city: string (nullable = true)\n",
            " |-- founded_at: string (nullable = true)\n",
            "\n"
          ]
        }
      ]
    },
    {
      "cell_type": "code",
      "source": [
        "#Lista de paises de habla inglesa en los cuales el inglés es uno de los idiomas oficiales\n",
        "#extraído de: https://en.wikipedia.org/wiki/List_of_territorial_entities_where_English_is_an_official_language\n",
        "\n",
        "list_of_countries = [\"KEN\", \"NGA\", \"GHA\", \"MWI\", \"ZMB\", \"FJI\", \"ZAF\", \"SGP\", \"PNG\", \"IRL\", \"DMA\", \"LCA\", \"ATG\", \n",
        "                     \"BHS\", \"BRB\", \"BLZ\", \"GRD\", \"GUY\", \"JAM\", \"KNA\", \"VCT\", \"SLE\", \"TTO\", \"CAN\", \"BWA\", \"GMB\",\n",
        "                     \"LBR\", \"MUS\", \"FSM\", \"SLB\", \"SSD\"]"
      ],
      "metadata": {
        "id": "HW1IgPkmj8li"
      },
      "execution_count": 125,
      "outputs": []
    },
    {
      "cell_type": "code",
      "source": [
        "#Aplicamos las restricciones que debe seguir la empresa Spark Funds\n",
        "#Aqui considero que el estado de la compañía a invertir debe ser diferente \n",
        "#de cerrado y que el código del país debe estar en la list_of_countries\n",
        "\n",
        "dfCompanies_1 = dfCompanies.filter(\n",
        "    (dfCompanies[\"name\"].isNotNull()) &\n",
        "    (dfCompanies[\"country_code\"].isNotNull()) &\n",
        "    (dfCompanies[\"country_code\"].isin(list_of_countries)) &\n",
        "    (dfCompanies[\"status\"] != \"closed\")\n",
        ")"
      ],
      "metadata": {
        "id": "UHSHC0eHj0FJ"
      },
      "execution_count": 126,
      "outputs": []
    },
    {
      "cell_type": "code",
      "source": [
        "#Hacemos uso de las user defined functions(UDF) para poder hacer un update de \n",
        "#la columna founded_at y permalink\n",
        "dfCompanies_2 = dfCompanies_1.withColumn(\"founded_at\", udfNormalizeDate(col(\"founded_at\")))"
      ],
      "metadata": {
        "id": "uJVWNiM4irz6"
      },
      "execution_count": 129,
      "outputs": []
    },
    {
      "cell_type": "code",
      "source": [
        "dfCompaniesLimpio = dfCompanies_2.withColumn(\"permalink\", udfLowerColumn(col(\"permalink\")))\n",
        "\n",
        "dfCompaniesLimpio.show()\n",
        "\n",
        "dfCompanies.count()"
      ],
      "metadata": {
        "colab": {
          "base_uri": "https://localhost:8080/"
        },
        "id": "C77yOT_EFmub",
        "outputId": "c551a417-9a19-40ed-91f7-64f45c18476d"
      },
      "execution_count": 130,
      "outputs": [
        {
          "output_type": "stream",
          "name": "stdout",
          "text": [
            "+--------------------+--------------------+--------------------+--------------------+---------+------------+----------+-----------+-----------+----------+\n",
            "|           permalink|                name|        homepage_url|       category_list|   status|country_code|state_code|     region|       city|founded_at|\n",
            "+--------------------+--------------------+--------------------+--------------------+---------+------------+----------+-----------+-----------+----------+\n",
            "|/organization/0nd...|Ondine Biomedical...|http://ondinebio.com|       Biotechnology|operating|         CAN|        BC|  Vancouver|  Vancouver|01/01/1997|\n",
            "|/organization/10a...|            Cliptone|http://www.clipto...|Advertising|Image...|operating|         CAN|        ON|    Toronto|    Toronto|03/03/2012|\n",
            "|/organization/10°...|            10°North|                null|             Fashion|operating|         CAN|        ON|    Toronto|Mississauga|05/01/2013|\n",
            "|/organization/1cl...|          1CloudStar|http://www.1Cloud...|Cloud Computing|C...|operating|         SGP|      null|  Singapore|  Singapore|01/01/2012|\n",
            "|/organization/20-...|        20:20 Mobile|http://www.2020mo...|              Mobile|operating|         IRL|        23|IRL - Other|       Cree|01/09/2006|\n",
            "|/organization/235...|          2359 Media|http://www.2359me...|              Mobile|operating|         SGP|      null|  Singapore|  Singapore|01/02/2009|\n",
            "|/organization/23p...|             23press|http://www.23pres...|Blogging Platform...|operating|         CAN|        ON|    Toronto|    Toronto|01/06/2011|\n",
            "|  /organization/2c2p|                2C2P| http://www.2c2p.com|E-Commerce|Mobile...|operating|         SGP|      null|       null|       null|01/01/2003|\n",
            "|/organization/2ca...|           2Catalyze|                null|            Software|operating|         CAN|        ON|    Toronto|    Toronto|01/01/2008|\n",
            "|/organization/2va...|          2Vancouver|http://2vancouver...|E-Commerce|Naviga...|operating|         CAN|        BC|  Vancouver|  Vancouver|25/01/2012|\n",
            "|/organization/360...|   360incentives.com|http://www.360inc...|            Software|operating|         CAN|        ON|    Toronto|     Whitby|01/01/2008|\n",
            "|/organization/3d4...|      3D4Medical.com|http://applicatio...|         Health Care|operating|         IRL|         7|     Dublin|     Dublin|01/01/2004|\n",
            "|/organization/3fu...|             3Funnel|http://www.3funne...|Business Analytic...|operating|         IRL|         7|     Dublin|     Dublin|01/02/2013|\n",
            "|/organization/3v-...|3V Transaction Se...|http://www.3vcorp...|Coupons|Online Sh...| acquired|         IRL|         7|  Blackrock|  Blackrock|01/01/2004|\n",
            "|/organization/4-t...|         4 the stars|http://www.4thest...|Networking|Web Ho...|operating|         BWA|         9|BWA - Other|   Ramotswa|12/07/2013|\n",
            "| /organization/4deep|               4Deep|  http://4-deep.com/|       Biotechnology|operating|         CAN|        NS|    Halifax|    Halifax|01/01/2008|\n",
            "| /organization/500px|               500px|    http://500px.com|Apps|Internet|Pho...|operating|         CAN|        ON|    Toronto|    Toronto|01/10/2009|\n",
            "|/organization/500...|            500Shops| http://500shops.com|E-Commerce|Online...|operating|         NGA|         5|      Lagos|       Yaba|      null|\n",
            "|/organization/6de...|            6degrees|http://www.get6de...|Apps|Contact Mana...|operating|         SGP|      null|  Singapore|  Singapore|01/06/2013|\n",
            "|/organization/6n-...|          6N Silicon|http://www.6nsili...|Concentrated Sola...| acquired|         CAN|        ON|    Toronto|    Vaughan|01/01/2006|\n",
            "+--------------------+--------------------+--------------------+--------------------+---------+------------+----------+-----------+-----------+----------+\n",
            "only showing top 20 rows\n",
            "\n"
          ]
        },
        {
          "output_type": "execute_result",
          "data": {
            "text/plain": [
              "66368"
            ]
          },
          "metadata": {},
          "execution_count": 130
        }
      ]
    },
    {
      "cell_type": "code",
      "source": [
        "#Unimos los dataframes dfRounds2Limpio y dfCompaniesLimpio en un dataframe\n",
        "#para tener la información de las empresas con las que se hizo \n",
        "#una ronda de financiación\n",
        "df1 = dfRounds2Limpio.join(\n",
        "    dfCompaniesLimpio,\n",
        "    dfRounds2Limpio[\"company_permalink\"] == dfCompaniesLimpio[\"permalink\"]\n",
        ").select(\n",
        "    dfRounds2Limpio[\"company_permalink\"],\n",
        "    dfCompaniesLimpio[\"name\"],\n",
        "    dfCompaniesLimpio[\"category_list\"],\n",
        "    dfRounds2Limpio[\"funding_round_type\"],\n",
        "    dfRounds2Limpio[\"raised_amount_usd\"],\n",
        ")\n",
        "\n",
        "df1.show(truncate=False)\n",
        "\n",
        "df1.count()"
      ],
      "metadata": {
        "colab": {
          "base_uri": "https://localhost:8080/"
        },
        "id": "gHdjvBZ-_wuk",
        "outputId": "13f07dae-4e7c-44d8-9262-1d211b154858"
      },
      "execution_count": 132,
      "outputs": [
        {
          "output_type": "stream",
          "name": "stdout",
          "text": [
            "+-------------------------------------------+-----------------------------+------------------------------------------------------------------------------------+------------------+-----------------+\n",
            "|company_permalink                          |name                         |category_list                                                                       |funding_round_type|raised_amount_usd|\n",
            "+-------------------------------------------+-----------------------------+------------------------------------------------------------------------------------+------------------+-----------------+\n",
            "|/organization/clear-metals                 |Clear Metals                 |Clean Technology                                                                    |venture           |213264.0         |\n",
            "|/organization/cubictelecom                 |Cubic Telecom                |Mobile|Web Development|Wireless                                                     |venture           |2044650.0        |\n",
            "|/organization/galazar                      |Galazar                      |Semiconductors                                                                      |venture           |6600000.0        |\n",
            "|/organization/brandtone                    |Brandtone                    |Advertising|Web Development                                                         |venture           |2.0660464E7      |\n",
            "|/organization/covarity                     |Covarity                     |Finance                                                                             |venture           |3200000.0        |\n",
            "|/organization/geodigital                   |GeoDigital                   |Software                                                                            |venture           |1.1293341E7      |\n",
            "|/organization/busbud                       |Busbud                       |Software|Travel                                                                     |venture           |9000000.0        |\n",
            "|/organization/disclosurenet                |DisclosureNet Inc.           |Software                                                                            |venture           |3000000.0        |\n",
            "|/organization/empire-avenue                |Empire Avenue                |Advertising|Curated Web|Social Media|Stock Exchanges                                |venture           |1200000.0        |\n",
            "|/organization/indochino                    |Indochino                    |E-Commerce                                                                          |venture           |1.3E7            |\n",
            "|/organization/biancamed                    |BiancaMed                    |Diagnostics|Health Care|Health Diagnostics                                          |venture           |8700000.0        |\n",
            "|/organization/clementia-pharmaceuticals    |Clementia Pharmaceuticals    |Biotechnology                                                                       |venture           |1.0E7            |\n",
            "|/organization/firecomms                    |Firecomms                    |Semiconductors                                                                      |venture           |1.203552E7       |\n",
            "|/organization/granite-networks             |Granite Networks             |Web Hosting                                                                         |venture           |2000000.0        |\n",
            "|/organization/bluestreak-technology        |Bluestreak Technology        |Mobile                                                                              |venture           |6000000.0        |\n",
            "|/organization/coreworx                     |Coreworx                     |Cloud Computing|E-Commerce|Enterprise Software|SaaS                                 |venture           |3000000.0        |\n",
            "|/organization/d-wave-systems               |D-Wave Systems               |Semiconductors                                                                      |venture           |1.4E7            |\n",
            "|/organization/konga-online-shopping-limited|Konga Online Shopping Limited|E-Commerce|Internet|Shopping                                                        |venture           |4.0E7            |\n",
            "|/organization/mig-me                       |Mig Me                       |Android|Apps|Chat|Communities|Entertainment|Games|Internet|Messaging|Mobile|Software|venture           |1.35E7           |\n",
            "|/organization/agendize                     |Agendize                     |Advertising|App Marketing|Chat|Telecommunications|Telephony                         |venture           |1809450.0        |\n",
            "+-------------------------------------------+-----------------------------+------------------------------------------------------------------------------------+------------------+-----------------+\n",
            "only showing top 20 rows\n",
            "\n"
          ]
        },
        {
          "output_type": "execute_result",
          "data": {
            "text/plain": [
              "817"
            ]
          },
          "metadata": {},
          "execution_count": 132
        }
      ]
    },
    {
      "cell_type": "code",
      "source": [
        "#Analizamos las diferentes tipos de rondas de financiación que existen en el\n",
        "#dataframe df1\n",
        "df1.select(df1[\"funding_round_type\"]).distinct().collect()"
      ],
      "metadata": {
        "id": "LVurTpMdejp1",
        "colab": {
          "base_uri": "https://localhost:8080/"
        },
        "outputId": "9f9b93ad-40af-448a-d3ba-92ec0a85f0e5"
      },
      "execution_count": 131,
      "outputs": [
        {
          "output_type": "execute_result",
          "data": {
            "text/plain": [
              "[Row(funding_round_type='venture'),\n",
              " Row(funding_round_type='seed'),\n",
              " Row(funding_round_type='undisclosed')]"
            ]
          },
          "metadata": {},
          "execution_count": 131
        }
      ]
    },
    {
      "cell_type": "code",
      "source": [
        "def productAndRound(number):\n",
        "  return round(number * 1e-7, 2)"
      ],
      "metadata": {
        "id": "fIprrUmZAp2E"
      },
      "execution_count": null,
      "outputs": []
    },
    {
      "cell_type": "code",
      "source": [
        "udfProductAndRound = udf(\n",
        "    productAndRound,\n",
        "    DoubleType()\n",
        ")"
      ],
      "metadata": {
        "id": "JD_FFEy5A6WD"
      },
      "execution_count": null,
      "outputs": []
    },
    {
      "cell_type": "code",
      "source": [
        "dfGroupRounds = df1.groupBy(df1[\"funding_round_type\"]).\\\n",
        "    agg(f.sum(df1[\"raised_amount_usd\"]).alias(\"raised_amount_total\"))\n",
        "\n",
        "dfGroupRounds_2 = dfGroupRounds.withColumn(\"raised_amount_total\", udfProductAndRound(col(\"raised_amount_total\")))\n",
        "dfGroupRounds_2.show()"
      ],
      "metadata": {
        "colab": {
          "base_uri": "https://localhost:8080/"
        },
        "id": "JBGxda3B5cgg",
        "outputId": "8ce558a0-6533-4250-8052-fafaf6f4c32d"
      },
      "execution_count": null,
      "outputs": [
        {
          "output_type": "stream",
          "name": "stdout",
          "text": [
            "+------------------+-------------------+\n",
            "|funding_round_type|raised_amount_total|\n",
            "+------------------+-------------------+\n",
            "|           venture|             883.02|\n",
            "|              seed|               0.14|\n",
            "|       undisclosed|               0.09|\n",
            "+------------------+-------------------+\n",
            "\n"
          ]
        }
      ]
    },
    {
      "cell_type": "code",
      "source": [
        "plt.barh(dfGroupRounds_2.rdd.map(lambda x: x[0]).collect(), dfGroupRounds_2.rdd.map(lambda x: x[1]).collect())\n",
        "\n",
        "plt.title(\"Raised amount total\")\n",
        "plt.xlabel(\"tens of millions\")"
      ],
      "metadata": {
        "colab": {
          "base_uri": "https://localhost:8080/",
          "height": 312
        },
        "id": "FSgxzR-1Mp_p",
        "outputId": "36b840c1-3939-4028-c914-278eb2f9a6e4"
      },
      "execution_count": null,
      "outputs": [
        {
          "output_type": "execute_result",
          "data": {
            "text/plain": [
              "Text(0.5, 0, 'tens of millions')"
            ]
          },
          "metadata": {},
          "execution_count": 75
        },
        {
          "output_type": "display_data",
          "data": {
            "text/plain": [
              "<Figure size 432x288 with 1 Axes>"
            ],
            "image/png": "[encoded data removed]"
          },
          "metadata": {
            "needs_background": "light"
          }
        }
      ]
    },
    {
      "cell_type": "code",
      "source": [
        "#Debido a que la cantidad recaudada para la categoría venture es mucho mayor a\n",
        "#la cantidad recaudada para las otras categorías, hacemos un análisis\n",
        "#gráfico de las otras categorías excluyendo la categoría venture\n",
        "values = dfGroupRounds_2.rdd.map(lambda x: x[1]).collect()[1:]\n",
        "labels = dfGroupRounds_2.rdd.map(lambda x: x[0]).collect()[1:]\n",
        "plt.barh(labels, values)\n",
        "\n",
        "for i, value in enumerate(values):\n",
        "  plt.text(value, i, str(value))\n",
        "\n",
        "plt.title(\"Raised amount total\")\n",
        "plt.xlabel(\"tens of millions\")"
      ],
      "metadata": {
        "colab": {
          "base_uri": "https://localhost:8080/",
          "height": 312
        },
        "id": "-L0_ztxwRW7H",
        "outputId": "c9572a3c-7533-4adb-94f0-65cb710e474b"
      },
      "execution_count": null,
      "outputs": [
        {
          "output_type": "execute_result",
          "data": {
            "text/plain": [
              "Text(0.5, 0, 'tens of millions')"
            ]
          },
          "metadata": {},
          "execution_count": 76
        },
        {
          "output_type": "display_data",
          "data": {
            "text/plain": [
              "<Figure size 432x288 with 1 Axes>"
            ],
            "image/png": "[encoded data removed]"
          },
          "metadata": {
            "needs_background": "light"
          }
        }
      ]
    }
  ]
}